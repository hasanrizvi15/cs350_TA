{
 "cells": [
  {
   "cell_type": "markdown",
   "metadata": {},
   "source": [
    "# Lab Session 01\n",
    "___"
   ]
  },
  {
   "cell_type": "markdown",
   "metadata": {},
   "source": [
    "## Background\n",
    "***\n",
    "The course: **CS350: Computer Organization & Assembly Language Programming**\n",
    "\n",
    "The key being _**Programming**_ for the lab sessions.\n",
    "\n",
    "The lab assignments will mostly deal with the C programming language or a bit of LC-3 assembly.\n"
   ]
  },
  {
   "cell_type": "markdown",
   "metadata": {},
   "source": [
    " "
   ]
  },
  {
   "cell_type": "markdown",
   "metadata": {
    "collapsed": true
   },
   "source": [
    "## Understanding Your Environment\n",
    "***\n",
    "You are going to be using `fourier` which is a **Linux** machine at the CS department.  \n",
    "### Linux? \n",
    "Linux (or GNU/Linux) is a UNIX-like open source operating system. \n",
    "\n",
    "##### The UNIX Philosophy \n",
    "- Write programs that DOTADIW (do one thing and do it well).\n",
    "- Write programs to work together.\n",
    "- Write programs to handle text streams, because that is a universal interface.\n",
    "\n",
    "Linux is shipped in form of Linux distributions (or distros/flavors) with the linux kernel being the core part of all them. Some familiar distributions include Ubuntu, Debian, RHEL, CentOS, Fedora, SUSE, Mint, Arch, etc."
   ]
  },
  {
   "cell_type": "markdown",
   "metadata": {},
   "source": [
    "Although modern linux platforms have graphical desktop environments, the original (and efficient) interface for controlling your computer is through the **Shell**.\n",
    "### Shell?\n",
    "The shell is a command line interface to interact with the computer using commands from standard in or a file. It is basically a command interpreter.\n",
    "\n",
    "There are several different kinds of shells some of which include:\n",
    "- bash(Bourne-Again Shell):  the most popular one. Developed by GNU\n",
    "- zsh(Z-shell): zsh being the initials of a professor.\n",
    "- csh(C-Shell): usage and syntax similar to the C programming language.\n",
    "- and several others ...\n",
    "\n",
    "**Fun Fact:** All the shells above are written in the C programming language which should be motivation enough to learn how to \"C\". Not only that complete operating systems are written in C. C, albeit an old language, is an extremely efficient low-level language. \n"
   ]
  },
  {
   "cell_type": "markdown",
   "metadata": {},
   "source": [
    "The linux environment and the shell is extremely flexible. You can change your preferences by changing your `PATH` environment variable in the `.bash_profile` or `.bashrc` files where you can also add scripts that do things you want your computer to do on start-up."
   ]
  },
  {
   "cell_type": "markdown",
   "metadata": {},
   "source": [
    "The most common way to access the shell is through a terminal emulator in a GUI environment.\n",
    "### Terminal\n",
    "#### Linux\n",
    "Has a terminal by default.\n",
    "#### macOS\n",
    "So does macOS, just use the terminal app or maybe iTerm2 if you want some more features.\n",
    "#### Windows\n",
    "Windows does no come with a terminal emulator by default. There are many solutions to that. We are basically going to be using it for ssh connection to `fourier.cs.iit.edu`.\n",
    " - [Cygwin](https://www.cygwin.com/)\n",
    " - [WSL](https://docs.microsoft.com/en-us/windows/wsl/about) (Windows Subsystem for Linux)\n",
    " - hypervisor(eg. [VirtualBox](https://www.virtualbox.org/wiki/Downloads)) and launch VMs(Virtual Machines) \n",
    " - git bash (you might already have this if you have git installed).\n",
    " \n",
    "##### Bonus\n",
    "If you like web dev and love to play around with html/css/js you can try out [Hyper](https://hyper.is/) a terminal built on web technologies. You should be able to play around with it to fit to your preferences  "
   ]
  },
  {
   "cell_type": "markdown",
   "metadata": {},
   "source": [
    "### Common commands to get started\n",
    "\n",
    "#### Navigating the command line\n",
    "\n",
    "- `ls` : list files\n",
    "- `cd` : change directory\n",
    "- `pwd` : print working directory\n",
    "- `cp` : copy\n",
    "- `mv` : move\n",
    "- `rm` : remove\n",
    "\n",
    "#### I/O\n",
    "\n",
    "- `cat` : reads file sequentially, writing them to standard out.\n",
    "- `echo` : write arguments to standard out.\n",
    "- `less` : terminal pager; to view files but not edit them \n",
    "- `tail` : displays the tail/end part of a file \n",
    "- `head` : displays the head/start part of a file \n",
    "\n",
    "#### Remote Connections\n",
    "- `ssh` : secure shell; a cryptographic network protocol to ensure secure and encrypted remote connections\n",
    "- `scp` : secure copy over the ssh protocol \n",
    "- `rsync` : similar to scp; used for transferring and synchronizing files across systems\n",
    "- others like `ssh-copy-id`, `ssh-keygen` to set up ssh keys for passwordless logins on remote connections. Refer to Zach's post on Piazza for more info.  "
   ]
  },
  {
   "cell_type": "markdown",
   "metadata": {},
   "source": [
    "\n",
    "**Helpful Tip**: To learn more about any command make use of the `man` command, short for manual. Usage: `man <command_name>`.\n"
   ]
  },
  {
   "cell_type": "markdown",
   "metadata": {},
   "source": [
    "#### some shorthands\n",
    "- `~` : `$HOME`, or your home directory  \n",
    "- `.` : `$PWD`, (remember the `pwd` command from before?)\n",
    "- `..` : the parent directory"
   ]
  },
  {
   "cell_type": "markdown",
   "metadata": {},
   "source": [
    "## Text Editors\n",
    "\n",
    "With the whole text based interface you definitely need text editors to edit files. The more famous ones include:\n",
    " \n",
    " - Vim (Vi-Improved)\n",
    " - Emacs\n",
    " - Nano (might as well just use Notepad)\n",
    " \n",
    "You might have to choose one as per your own liking. Getting comfortable with either vim or emacs is going to make your development environment very efficient."
   ]
  },
  {
   "cell_type": "markdown",
   "metadata": {},
   "source": [
    "## Compiling and Running Programs\n",
    "\n",
    "Refer to lab0:\n",
    "http://www.cs.iit.edu/~khale/class/cs350/s18/handout/lab0/"
   ]
  },
  {
   "cell_type": "markdown",
   "metadata": {},
   "source": [
    " "
   ]
  },
  {
   "cell_type": "markdown",
   "metadata": {},
   "source": [
    "## Some More Stuff\n",
    "\n",
    "### Permissions\n",
    "The `chmod` command\n",
    "\n",
    "### Searching for stuff:\n",
    " - `find` : search for files \n",
    " - `grep` : search plain text data for lines that match a pattern/reg-ex. **GREP**: **G**lobally search a **R**egulaar **E**xpression and **P**rint\n",
    " - `ack`: `grep`-like text finder\n",
    " \n",
    "### Pipes and redirection\n",
    " - `>` (Redirect output) : redirects output from standard out to a file or stream  \n",
    " - `>>` (Append) : Appends to a existing file \n",
    " - `<` (Redirect input) : directs input from a file or a source apart form standard in.\n",
    " - `|` (Pipe) : redirects the output of a program or command to a second program or command."
   ]
  }
 ],
 "metadata": {
  "kernelspec": {
   "display_name": "Python 3",
   "language": "python",
   "name": "python3"
  },
  "language_info": {
   "codemirror_mode": {
    "name": "ipython",
    "version": 3
   },
   "file_extension": ".py",
   "mimetype": "text/x-python",
   "name": "python",
   "nbconvert_exporter": "python",
   "pygments_lexer": "ipython3",
   "version": "3.6.1"
  }
 },
 "nbformat": 4,
 "nbformat_minor": 2
}
