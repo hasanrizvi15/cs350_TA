{
 "cells": [
  {
   "cell_type": "markdown",
   "metadata": {},
   "source": [
    "# Lab Session 02\n",
    "___"
   ]
  },
  {
   "cell_type": "markdown",
   "metadata": {},
   "source": [
    "## The C Programming Language\n",
    "***\n",
    "\n",
    "### Stuff already discussed in lecture - ANY QUESTIONS?\n",
    "- Primitive Types\n",
    "- Control FLow\n",
    "- Operators (Comparison, Logical, Arithmetic, **Bitwise**)\n",
    "- Functions\n",
    "- **Structs**\n",
    "- Arrays\n",
    "- **Pointers**\n",
    "- Strings\n",
    "- **Macros**\n",
    "\n",
    "\n",
    "### Moving on ...\n",
    "\n",
    "#### typedef\n",
    "Create alias for another data type. Often used to simplify the syntax of complex data structures consisting structs or **unions**.\n",
    " "
   ]
  },
  {
   "cell_type": "markdown",
   "metadata": {},
   "source": [
    "```c\n",
    "typedef unsigned long long int uint64_t \n",
    "uint64_t vBigNumber; // vs. unsigned long long int vBigNumber;\n",
    "\n",
    "typedef struct circle {\n",
    "    double x;\n",
    "    double y;\n",
    "    double r;\n",
    "} Circle;\n",
    "Circle c1 = {12.0, 2.5, 10.3}; // vs. struct circle c1 = { ... }; \n",
    "```"
   ]
  },
  {
   "cell_type": "markdown",
   "metadata": {},
   "source": [
    "#### typecasting\n",
    "\n",
    "Type cast values to use as different data/pointer types. Be careful though.\n"
   ]
  },
  {
   "cell_type": "markdown",
   "metadata": {},
   "source": [
    "#### ternary operator `?:`\n",
    "\n",
    "Also known as an inline if. Basically a one line if-else statement. \n",
    "\n",
    "```c\n",
    "char *grade = (score > 50) ? \"PASS\" : \"FAIL\";  \n",
    "\n",
    "```"
   ]
  },
  {
   "cell_type": "markdown",
   "metadata": {},
   "source": [
    "#### Console I/O\n",
    "Requires stdio.h.\n",
    "- `printf()`: prints to the console/stdout\n",
    "- `scanf()` : reads formatted input from stdin"
   ]
  },
  {
   "cell_type": "markdown",
   "metadata": {},
   "source": [
    "#### File I/O\n",
    "Requires stdio.h.\n",
    "- `fopen` : Create or open a file\n",
    "\n",
    "    USAGE:\n",
    "```c\n",
    "    // prototype: FILE *fopen(char *f, char *mode);\n",
    "    File *my_file = fopen(\"file.txt\", \"r\");\n",
    "```\n",
    "- `fclose` : Close a file.\n",
    "\n",
    "    USAGE:\n",
    "```c\n",
    "    // prototype: int fclose(FILE *f);\n",
    "    fclose(my_file);\n",
    "```\n",
    "- `fwrite` : write \n",
    "\n",
    "    USAGE: \n",
    "```c\n",
    "    // prototype: fwrite(void *b, size_t s, size_t c, FILE *f);\n",
    "```\n",
    "\n",
    "- `fread` : read\n",
    "\n",
    "    USAGE:\n",
    "```c\n",
    "    // prototype: fread(void *b, size_t s, size_t c, FILE *f)\n",
    "```\n",
    "\n",
    "- `fprintf` : formatted write\n",
    "\n",
    "    USAGE:\n",
    "```c\n",
    "    // prototype: fprintf(FILE *f, char *fmt, <varlist>)\n",
    "    fprintf(my_file, \"%s %s %s %d\", \"We\", \"are\", \"in\", 2018); \n",
    "```\n",
    "- `fscanf` : formatted read\n",
    "\n",
    "    USAGE:\n",
    "```c\n",
    "    // prototype: fscanf(FILE *f, char *fmt, &<varlist>);\n",
    "    char *str1, *str2, *str3;\n",
    "    int year;\n",
    "    fscanf(my_file, \"%s %s %s %d\", str1, str2, str3, &year);\n",
    "```\n"
   ]
  },
  {
   "cell_type": "markdown",
   "metadata": {},
   "source": [
    "#### pass by value vs. pass by reference\n",
    "\n",
    "The C language is pass-by-value without exception. Passing a pointer as a parameter does not mean pass-by-reference.\n",
    "\n",
    "A function is not able to change the actual parameters value.\n",
    "\n",
    "In C, Pass-by-reference is simulated by passing the address of a variable (a pointer) and dereferencing that address within the function to read or write the actual variable. This can be called \"C style pass-by-reference.\""
   ]
  },
  {
   "cell_type": "markdown",
   "metadata": {},
   "source": [
    "#### goto\n",
    "\n",
    "Jump over to a specific part of your code.\n",
    "\n",
    "```c\n",
    "void foo()\n",
    "{\n",
    "    switch(C-knowledge) {\n",
    "        case \"WTH-is-C\":\n",
    "            goto C_SCHOOL;\n",
    "            break;\n",
    "        case \"novice\":\n",
    "        case \"intermediate\":\n",
    "            goto PRACTICE;\n",
    "            break;\n",
    "        case \"expert\":\n",
    "            goto HELP_HUMANITY;  \n",
    "            break;\n",
    "    }\n",
    "        \n",
    "    C_SCHOOL:\n",
    "        learn_C();\n",
    "    PRACTICE:\n",
    "        brushup_on_C();\n",
    "        start_programming();\n",
    "    HELP_HUMANITY:\n",
    "        pass_your_knowledge;\n",
    "        \n",
    "    return;\n",
    "}\n",
    "```"
   ]
  },
  {
   "cell_type": "markdown",
   "metadata": {},
   "source": [
    "#### function pointers\n",
    "Variable that stores a pointer to a function.\n",
    "\n",
    "    example:\n",
    "```c\n",
    "    int (*fp)(); // pointer to a function that takes no argument and returns an int.\n",
    "```\n",
    "\n",
    "Function pointers provide a way of passing around instructions for how to do something.\n",
    "\n",
    "You can write flexible functions and libraries that allow the programmer to choose behavior by passing function pointers as arguments."
   ]
  },
  {
   "cell_type": "markdown",
   "metadata": {},
   "source": [
    "#### union/enums\n",
    "\n",
    "- Unions: Special data structure like structs that allows storage of different data types **but in the same memory location**. One and only one member can contain a value at a given time. Allows for multi-purpose usage of memory location.\n",
    "    Example:\n",
    "    \n",
    "```c\n",
    "   \n",
    "   typdef union data {      \n",
    "        int i;               // sizeof(i) = 4\n",
    "        double d;            // sizeof(d) = 8\n",
    "        char s[16];          // sizeof(s) = 16\n",
    "    } DATA;                  // sizeof(DATA) = 16\n",
    "\n",
    "\n",
    "    typdef struct test {      \n",
    "        int i;               // sizeof(i) = 4\n",
    "        double d;            // sizeof(d) = 8\n",
    "        char s[16];          // sizeof(s) = 16\n",
    "    } TEST;                  // sizeof(TEST) = 32            \n",
    "                             // BUT! 4 + 8 + 16 = 28???\n",
    "                             // WHY 32? Because ALIGNMENT. \n",
    "```\n",
    "- Enums\n",
    "Enumeration is a user defined data type consisting of integral constants. It allows for human readable strings to be assigned values. \n",
    "\n",
    "```c\n",
    "typedef enum week {\n",
    "    Monday,          // = 0 \n",
    "    Tuesday,         // = 1\n",
    "    Wednesday,       // = 2\n",
    "    Thursday,        // = 3\n",
    "    Friday,          // = 4\n",
    "    Saturday,        // = 5\n",
    "    Sunday           // = 6 \n",
    "} DAY;\n",
    "\n",
    "DAY today = Friday;  // today = 4;\n",
    "```"
   ]
  },
  {
   "cell_type": "markdown",
   "metadata": {},
   "source": [
    "#### static\n",
    "- static variable: Increases the scope of a variable. Can be accessed anywhere in a file.\n",
    "- static function: functions are global in C by default. a static function has its scope reduced to its file. \n",
    "\n",
    "#### extern\n",
    "`extern` variables are variables that have already been assigned in some other file. Go look for it and use that.\n",
    "> If the program is in several source files, and a variable is defined in file1 and used in file2 and file3, then extern declarations are needed in file2 and file3 to connect the occurrences of the variable. The usual practice is to collect extern declarations of variables and functions in a separate file, historically called a header, that is included by #include at the front of each source file. The suffix .h is conventional for header names.\n",
    "\n",
    "   \n",
    "   -- *The C Programming Language*."
   ]
  },
  {
   "cell_type": "markdown",
   "metadata": {},
   "source": [
    "#### the header file\n",
    "The header file is a seperate file with the `.h` extension. It contains C declarations and macro definitions that are supposed to be shared betwwen several source files.\n",
    "\n",
    "You can find function prototypes; extern specifications; structure, union or type definitions."
   ]
  },
  {
   "cell_type": "markdown",
   "metadata": {},
   "source": [
    " \n",
    " "
   ]
  },
  {
   "cell_type": "markdown",
   "metadata": {},
   "source": [
    "\n",
    "\n",
    "### QUESTIONS?\n"
   ]
  },
  {
   "cell_type": "markdown",
   "metadata": {},
   "source": [
    "  "
   ]
  }
 ],
 "metadata": {
  "kernelspec": {
   "display_name": "Python 3",
   "language": "python",
   "name": "python3"
  },
  "language_info": {
   "codemirror_mode": {
    "name": "ipython",
    "version": 3
   },
   "file_extension": ".py",
   "mimetype": "text/x-python",
   "name": "python",
   "nbconvert_exporter": "python",
   "pygments_lexer": "ipython3",
   "version": "3.6.1"
  }
 },
 "nbformat": 4,
 "nbformat_minor": 2
}
